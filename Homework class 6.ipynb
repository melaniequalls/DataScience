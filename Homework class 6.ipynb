{
 "cells": [
  {
   "cell_type": "markdown",
   "metadata": {},
   "source": [
    "## Assignment\n",
    "\n",
    "### Part I\n",
    "\n",
    "#### Clean your data\n",
    "\n",
    "+ Read in temp_data.txt\n",
    "    + It won't be easy! You'll need to find a way to clean the data\n",
    "    + Try opening the file in a text editor first\n",
    "+ Read in temp_X.csv\n",
    "+ Merge the X variable from temp_X with the data from temp_data\n",
    "+ Note that we discussed this in class, but it's something you'll just need to practice on your own. \n",
    "+ You will struggle with this and it's ok\n",
    "+ Check out the documentation for read_csv() in the pandas package\n",
    "\n",
    "\n",
    "### Part II\n",
    "\n",
    "#### Run a linear regression\n",
    "+ Using X to predict temperature \n",
    "+ Interpret your coefficients!\n",
    "+ What is one potential use for this linear regression equation? \n",
    "+ What does this linear regression mean? \n",
    "+ Is this a good model? Why or why not? \n",
    "\n",
    "    \n"
   ]
  },
  {
   "cell_type": "code",
   "execution_count": 2,
   "metadata": {
    "collapsed": true
   },
   "outputs": [],
   "source": [
    "import numpy as np\n",
    "import pandas as pd\n",
    "from sklearn import linear_model, metrics"
   ]
  },
  {
   "cell_type": "code",
   "execution_count": 14,
   "metadata": {
    "collapsed": false,
    "scrolled": true
   },
   "outputs": [
    {
     "name": "stdout",
     "output_type": "stream",
     "text": [
      "   Station ID  Series Number      Date  Temperature (C)  Uncertainty (C)  \\\n",
      "0       25398              1  1986.708           26.611           0.0507   \n",
      "1       25398              1  1986.875           27.593           0.0507   \n",
      "2       25398              1  1986.958           28.226           0.0499   \n",
      "3       25398              1  1987.042           27.581           0.0499   \n",
      "4       25398              1  1987.125           27.996           0.0525   \n",
      "\n",
      "   Observations  Time of Observation   \n",
      "0            30                    24  \n",
      "1            30                    24  \n",
      "2            31                    24  \n",
      "3            31                    24  \n",
      "4            28                    24  \n"
     ]
    }
   ],
   "source": [
    "# read in text and csv files\n",
    "data1 = pd.read_csv('/Users/melaniequalls/Desktop/DataScienceGA/DS-SF-32/lessons/lesson-5/temp_data.txt', delimiter='\\t', header=109)\n",
    "data2 = pd.read_csv('/Users/melaniequalls/Desktop/DataScienceGA/DS-SF-32/lessons/lesson-5/temp_X.csv')\n",
    "\n",
    "print data1.head()"
   ]
  },
  {
   "cell_type": "code",
   "execution_count": 18,
   "metadata": {
    "collapsed": false
   },
   "outputs": [
    {
     "name": "stdout",
     "output_type": "stream",
     "text": [
      "   Unnamed: 0  Station_ID  Series_Number      Date        X\n",
      "0           0       25398              1  1986.708  79.8998\n",
      "1           1       25398              1  1986.875  81.6674\n",
      "2           2       25398              1  1986.958  82.8068\n",
      "3           3       25398              1  1987.042  81.6458\n",
      "4           4       25398              1  1987.125  82.3928\n"
     ]
    }
   ],
   "source": [
    "print data2.head()"
   ]
  },
  {
   "cell_type": "raw",
   "metadata": {},
   "source": []
  },
  {
   "cell_type": "code",
   "execution_count": 17,
   "metadata": {
    "collapsed": false
   },
   "outputs": [
    {
     "data": {
      "text/plain": [
       "Station ID              0\n",
       "Series Number           0\n",
       "Date                    0\n",
       "Temperature (C)         0\n",
       "Uncertainty (C)         0\n",
       "Observations            0\n",
       "Time of Observation     0\n",
       "dtype: int64"
      ]
     },
     "execution_count": 17,
     "metadata": {},
     "output_type": "execute_result"
    }
   ],
   "source": [
    "# are there NaNs?\n",
    "data1.isnull().sum()"
   ]
  },
  {
   "cell_type": "code",
   "execution_count": null,
   "metadata": {
    "collapsed": false
   },
   "outputs": [],
   "source": [
    "# Merge the X variable from temp_X with the data from temp_data\n",
    "data3 = pd.merge(data1,data2,how='left')\n",
    "print data3.head()"
   ]
  },
  {
   "cell_type": "code",
   "execution_count": null,
   "metadata": {
    "collapsed": true
   },
   "outputs": [],
   "source": []
  }
 ],
 "metadata": {
  "kernelspec": {
   "display_name": "Python 2",
   "language": "python",
   "name": "python2"
  },
  "language_info": {
   "codemirror_mode": {
    "name": "ipython",
    "version": 2
   },
   "file_extension": ".py",
   "mimetype": "text/x-python",
   "name": "python",
   "nbconvert_exporter": "python",
   "pygments_lexer": "ipython2",
   "version": "2.7.13"
  }
 },
 "nbformat": 4,
 "nbformat_minor": 0
}
