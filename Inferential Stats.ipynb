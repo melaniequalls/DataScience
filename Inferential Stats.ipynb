{
 "cells": [
  {
   "cell_type": "markdown",
   "metadata": {},
   "source": [
    "### Inferential Statistics Challenge"
   ]
  },
  {
   "cell_type": "code",
   "execution_count": 2,
   "metadata": {
    "collapsed": false
   },
   "outputs": [],
   "source": [
    "import pandas as pd\n",
    "\n",
    "df = pd.read_csv(\"/Users/melaniequalls/Desktop/DataScienceGA/DS-SF-32/dataset/police-killings.csv\")"
   ]
  },
  {
   "cell_type": "code",
   "execution_count": 25,
   "metadata": {
    "collapsed": false
   },
   "outputs": [
    {
     "data": {
      "text/html": [
       "<div>\n",
       "<table border=\"1\" class=\"dataframe\">\n",
       "  <thead>\n",
       "    <tr style=\"text-align: right;\">\n",
       "      <th></th>\n",
       "      <th>Unnamed: 0</th>\n",
       "      <th>name</th>\n",
       "      <th>age</th>\n",
       "      <th>gender</th>\n",
       "      <th>raceethnicity</th>\n",
       "      <th>month</th>\n",
       "      <th>day</th>\n",
       "      <th>year</th>\n",
       "      <th>streetaddress</th>\n",
       "      <th>city</th>\n",
       "      <th>state</th>\n",
       "      <th>lawenforcementagency</th>\n",
       "      <th>cause</th>\n",
       "      <th>armed</th>\n",
       "      <th>county_income</th>\n",
       "    </tr>\n",
       "  </thead>\n",
       "  <tbody>\n",
       "    <tr>\n",
       "      <th>0</th>\n",
       "      <td>0</td>\n",
       "      <td>A'donte Washington</td>\n",
       "      <td>16</td>\n",
       "      <td>Male</td>\n",
       "      <td>Black</td>\n",
       "      <td>February</td>\n",
       "      <td>23</td>\n",
       "      <td>2015</td>\n",
       "      <td>Clearview Ln</td>\n",
       "      <td>Millbrook</td>\n",
       "      <td>AL</td>\n",
       "      <td>Millbrook Police Department</td>\n",
       "      <td>Gunshot</td>\n",
       "      <td>No</td>\n",
       "      <td>54766</td>\n",
       "    </tr>\n",
       "    <tr>\n",
       "      <th>1</th>\n",
       "      <td>1</td>\n",
       "      <td>Aaron Rutledge</td>\n",
       "      <td>27</td>\n",
       "      <td>Male</td>\n",
       "      <td>White</td>\n",
       "      <td>April</td>\n",
       "      <td>2</td>\n",
       "      <td>2015</td>\n",
       "      <td>300 block Iris Park Dr</td>\n",
       "      <td>Pineville</td>\n",
       "      <td>LA</td>\n",
       "      <td>Rapides Parish Sheriff's Office</td>\n",
       "      <td>Gunshot</td>\n",
       "      <td>No</td>\n",
       "      <td>40930</td>\n",
       "    </tr>\n",
       "    <tr>\n",
       "      <th>2</th>\n",
       "      <td>2</td>\n",
       "      <td>Aaron Siler</td>\n",
       "      <td>26</td>\n",
       "      <td>Male</td>\n",
       "      <td>White</td>\n",
       "      <td>March</td>\n",
       "      <td>14</td>\n",
       "      <td>2015</td>\n",
       "      <td>22nd Ave and 56th St</td>\n",
       "      <td>Kenosha</td>\n",
       "      <td>WI</td>\n",
       "      <td>Kenosha Police Department</td>\n",
       "      <td>Gunshot</td>\n",
       "      <td>No</td>\n",
       "      <td>54930</td>\n",
       "    </tr>\n",
       "    <tr>\n",
       "      <th>3</th>\n",
       "      <td>3</td>\n",
       "      <td>Aaron Valdez</td>\n",
       "      <td>25</td>\n",
       "      <td>Male</td>\n",
       "      <td>Hispanic/Latino</td>\n",
       "      <td>March</td>\n",
       "      <td>11</td>\n",
       "      <td>2015</td>\n",
       "      <td>3000 Seminole Ave</td>\n",
       "      <td>South Gate</td>\n",
       "      <td>CA</td>\n",
       "      <td>South Gate Police Department</td>\n",
       "      <td>Gunshot</td>\n",
       "      <td>Firearm</td>\n",
       "      <td>55909</td>\n",
       "    </tr>\n",
       "    <tr>\n",
       "      <th>4</th>\n",
       "      <td>4</td>\n",
       "      <td>Adam Jovicic</td>\n",
       "      <td>29</td>\n",
       "      <td>Male</td>\n",
       "      <td>White</td>\n",
       "      <td>March</td>\n",
       "      <td>19</td>\n",
       "      <td>2015</td>\n",
       "      <td>364 Hiwood Ave</td>\n",
       "      <td>Munroe Falls</td>\n",
       "      <td>OH</td>\n",
       "      <td>Kent Police Department</td>\n",
       "      <td>Gunshot</td>\n",
       "      <td>No</td>\n",
       "      <td>49669</td>\n",
       "    </tr>\n",
       "  </tbody>\n",
       "</table>\n",
       "</div>"
      ],
      "text/plain": [
       "   Unnamed: 0                name  age gender    raceethnicity     month  day  \\\n",
       "0           0  A'donte Washington   16   Male            Black  February   23   \n",
       "1           1      Aaron Rutledge   27   Male            White     April    2   \n",
       "2           2         Aaron Siler   26   Male            White     March   14   \n",
       "3           3        Aaron Valdez   25   Male  Hispanic/Latino     March   11   \n",
       "4           4        Adam Jovicic   29   Male            White     March   19   \n",
       "\n",
       "   year           streetaddress          city state  \\\n",
       "0  2015            Clearview Ln     Millbrook    AL   \n",
       "1  2015  300 block Iris Park Dr     Pineville    LA   \n",
       "2  2015    22nd Ave and 56th St       Kenosha    WI   \n",
       "3  2015       3000 Seminole Ave    South Gate    CA   \n",
       "4  2015          364 Hiwood Ave  Munroe Falls    OH   \n",
       "\n",
       "              lawenforcementagency    cause    armed  county_income  \n",
       "0      Millbrook Police Department  Gunshot       No          54766  \n",
       "1  Rapides Parish Sheriff's Office  Gunshot       No          40930  \n",
       "2        Kenosha Police Department  Gunshot       No          54930  \n",
       "3     South Gate Police Department  Gunshot  Firearm          55909  \n",
       "4           Kent Police Department  Gunshot       No          49669  "
      ]
     },
     "execution_count": 25,
     "metadata": {},
     "output_type": "execute_result"
    }
   ],
   "source": [
    "df.head()"
   ]
  },
  {
   "cell_type": "markdown",
   "metadata": {},
   "source": [
    "### Challenge 1\n",
    "\n",
    "+ Calculate The Standard Deviation For Age\n",
    "+ Without using the standard deviation function\n"
   ]
  },
  {
   "cell_type": "code",
   "execution_count": 17,
   "metadata": {
    "collapsed": false
   },
   "outputs": [
    {
     "data": {
      "text/plain": [
       "12.944616828363477"
      ]
     },
     "execution_count": 17,
     "metadata": {},
     "output_type": "execute_result"
    }
   ],
   "source": [
    "average = df.age.mean()\n",
    "\n",
    "age = df['age']\n",
    "s = (age - average)**2\n",
    "(s.sum() / (age.count() - 1))**0.5\n"
   ]
  },
  {
   "cell_type": "markdown",
   "metadata": {},
   "source": [
    "### Challenge 2\n",
    "\n",
    "+ Check to see if age is normally distributed"
   ]
  },
  {
   "cell_type": "code",
   "execution_count": 23,
   "metadata": {
    "collapsed": false
   },
<<<<<<< HEAD:starter-code/lesson 3/Inferential Stats.ipynb
   "outputs": [
    {
     "data": {
      "text/plain": [
       "<matplotlib.axes._subplots.AxesSubplot at 0x10c7517d0>"
      ]
     },
     "execution_count": 23,
     "metadata": {},
     "output_type": "execute_result"
    },
    {
     "data": {
      "image/png": "iVBORw0KGgoAAAANSUhEUgAAAYkAAAD8CAYAAACCRVh7AAAABHNCSVQICAgIfAhkiAAAAAlwSFlz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\n",
      "text/plain": [
       "<matplotlib.figure.Figure at 0x10d2d0d50>"
      ]
     },
     "metadata": {},
     "output_type": "display_data"
    }
   ],
   "source": [
    "%matplotlib inline\n",
    "\n",
    "df['age'].plot.hist()\n"
   ]
||||||| merged common ancestors
   "outputs": [],
   "source": []
=======
   "outputs": [],
   "source": [
    "%matplotlib inline\n",
    "\n"
   ]
>>>>>>> b407e48fea9ed0b6ae3f1008c1ee7d87093aa16a:starter-code/lesson-3/Inferential Stats.ipynb
  },
  {
   "cell_type": "markdown",
   "metadata": {},
   "source": [
    "### Challenge 3\n",
    "\n",
    "+ Write your own code for a t-test, manually\n",
    "+ Are white victims significantly older or younger than non-white victims?"
   ]
  },
  {
   "cell_type": "code",
   "execution_count": 43,
   "metadata": {
    "collapsed": false
   },
   "outputs": [
    {
     "data": {
      "text/plain": [
       "5.42189972107826"
      ]
     },
     "execution_count": 43,
     "metadata": {},
     "output_type": "execute_result"
    }
   ],
   "source": [
    "white = df.loc[df['raceethnicity'] == 'White']\n",
    "notwhite = df.loc[df['raceethnicity'] != 'White']\n",
    "\n",
    "(white['age'].mean() - notwhite['age'].mean()) / ((white['age'].std()**2/white['age'].count() + notwhite['age'].std()**2/notwhite['age'].count())**0.5)"
   ]
  },
  {
   "cell_type": "code",
   "execution_count": null,
   "metadata": {
    "collapsed": false
   },
   "outputs": [],
   "source": []
  },
  {
   "cell_type": "code",
   "execution_count": null,
   "metadata": {
    "collapsed": true
   },
   "outputs": [],
   "source": []
  }
 ],
 "metadata": {
  "kernelspec": {
   "display_name": "Python 2",
   "language": "python",
   "name": "python2"
  },
  "language_info": {
   "codemirror_mode": {
    "name": "ipython",
    "version": 2
   },
   "file_extension": ".py",
   "mimetype": "text/x-python",
   "name": "python",
   "nbconvert_exporter": "python",
   "pygments_lexer": "ipython2",
   "version": "2.7.13"
  }
 },
 "nbformat": 4,
 "nbformat_minor": 0
}
