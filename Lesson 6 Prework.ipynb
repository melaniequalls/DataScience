{
 "cells": [
  {
   "cell_type": "markdown",
   "metadata": {},
   "source": [
    "# Lesson 5 Review and Lesson 6 Prework"
   ]
  },
  {
   "cell_type": "markdown",
   "metadata": {},
   "source": [
    "## Lesson 5 Review and Coding Tips\n",
    "\n",
    "1. Coding: Pandas' Merge, Concat and Append"
   ]
  },
  {
   "cell_type": "markdown",
   "metadata": {},
   "source": [
    "## Lesson 6 Topics\n",
    "1. Regularization (Lasso, Ridge, Elastic Net)\n",
    "3. Bias-Variance Trade Off\n",
    "4. Error Metrics: MSE, RMSE, R-Squared"
   ]
  },
  {
   "cell_type": "code",
   "execution_count": 2,
   "metadata": {
    "collapsed": true
   },
   "outputs": [],
   "source": [
    "import pandas as pd\n",
    "import numpy as np\n",
    "import statsmodels.formula.api as smf\n",
    "import matplotlib.pyplot as plt\n",
    "import seaborn as sns\n",
    "from sklearn.linear_model import LinearRegression\n",
    "\n",
    "%matplotlib inline"
   ]
  },
  {
   "cell_type": "markdown",
   "metadata": {},
   "source": [
    "## Lesson 5 Review Topics and Coding Tips"
   ]
  },
  {
   "cell_type": "markdown",
   "metadata": {},
   "source": [
    "### Merging\n",
    "\n",
    "Pandas' merge function is very similar to how relationship databases (SQL) does joins. Look at the parameters and you'll see why.\n",
    "\n",
    "pd.merge(left_df, right_df, how=['inner', 'outer', 'left', 'right'], on=Col)\n",
    "\n",
    "There are a couple more parameters included, but the basic usage of merge requires those 4 paremeters. Here's a quick example."
   ]
  },
  {
   "cell_type": "code",
   "execution_count": 3,
   "metadata": {
    "collapsed": false
   },
   "outputs": [],
   "source": [
    "df1 = pd.DataFrame({'Names': ['Reid', 'Edward', 'Matt', 'MartyMcFly'],\n",
    "                    'is_GA': ['Yes', 'Yes', 'Yes', 'No'],\n",
    "                    'Movies': [0, 0, 0, 1]})\n",
    "\n",
    "df2 = pd.DataFrame({'Names': ['Reid', 'Edward', 'Matt', 'MartyMcFly'],\n",
    "                    'Num_of_Glasses': [2, 2, 0, 1],\n",
    "                    'Steps_to_get_to_class': [3000, 8000, 5000, 2000]})"
   ]
  },
  {
   "cell_type": "code",
   "execution_count": 21,
   "metadata": {
    "collapsed": false
   },
   "outputs": [
    {
     "data": {
      "text/html": [
       "<div>\n",
       "<table border=\"1\" class=\"dataframe\">\n",
       "  <thead>\n",
       "    <tr style=\"text-align: right;\">\n",
       "      <th></th>\n",
       "      <th>Movies</th>\n",
       "      <th>Names</th>\n",
       "      <th>is_GA</th>\n",
       "    </tr>\n",
       "  </thead>\n",
       "  <tbody>\n",
       "    <tr>\n",
       "      <th>0</th>\n",
       "      <td>0</td>\n",
       "      <td>Reid</td>\n",
       "      <td>Yes</td>\n",
       "    </tr>\n",
       "    <tr>\n",
       "      <th>1</th>\n",
       "      <td>0</td>\n",
       "      <td>Edward</td>\n",
       "      <td>Yes</td>\n",
       "    </tr>\n",
       "    <tr>\n",
       "      <th>2</th>\n",
       "      <td>0</td>\n",
       "      <td>Matt</td>\n",
       "      <td>Yes</td>\n",
       "    </tr>\n",
       "    <tr>\n",
       "      <th>3</th>\n",
       "      <td>1</td>\n",
       "      <td>MartyMcFly</td>\n",
       "      <td>No</td>\n",
       "    </tr>\n",
       "  </tbody>\n",
       "</table>\n",
       "</div>"
      ],
      "text/plain": [
       "   Movies       Names is_GA\n",
       "0       0        Reid   Yes\n",
       "1       0      Edward   Yes\n",
       "2       0        Matt   Yes\n",
       "3       1  MartyMcFly    No"
      ]
     },
     "execution_count": 21,
     "metadata": {},
     "output_type": "execute_result"
    }
   ],
   "source": [
    "df1"
   ]
  },
  {
   "cell_type": "code",
   "execution_count": 4,
   "metadata": {
    "collapsed": false
   },
   "outputs": [
    {
     "data": {
      "text/html": [
       "<div>\n",
       "<table border=\"1\" class=\"dataframe\">\n",
       "  <thead>\n",
       "    <tr style=\"text-align: right;\">\n",
       "      <th></th>\n",
       "      <th>Names</th>\n",
       "      <th>Num_of_Glasses</th>\n",
       "      <th>Steps_to_get_to_class</th>\n",
       "    </tr>\n",
       "  </thead>\n",
       "  <tbody>\n",
       "    <tr>\n",
       "      <th>0</th>\n",
       "      <td>Reid</td>\n",
       "      <td>2</td>\n",
       "      <td>3000</td>\n",
       "    </tr>\n",
       "    <tr>\n",
       "      <th>1</th>\n",
       "      <td>Edward</td>\n",
       "      <td>2</td>\n",
       "      <td>8000</td>\n",
       "    </tr>\n",
       "    <tr>\n",
       "      <th>2</th>\n",
       "      <td>Matt</td>\n",
       "      <td>0</td>\n",
       "      <td>5000</td>\n",
       "    </tr>\n",
       "    <tr>\n",
       "      <th>3</th>\n",
       "      <td>MartyMcFly</td>\n",
       "      <td>1</td>\n",
       "      <td>2000</td>\n",
       "    </tr>\n",
       "  </tbody>\n",
       "</table>\n",
       "</div>"
      ],
      "text/plain": [
       "        Names  Num_of_Glasses  Steps_to_get_to_class\n",
       "0        Reid               2                   3000\n",
       "1      Edward               2                   8000\n",
       "2        Matt               0                   5000\n",
       "3  MartyMcFly               1                   2000"
      ]
     },
     "execution_count": 4,
     "metadata": {},
     "output_type": "execute_result"
    }
   ],
   "source": [
    "df2"
   ]
  },
  {
   "cell_type": "code",
   "execution_count": 7,
   "metadata": {
    "collapsed": false
   },
   "outputs": [
    {
     "data": {
      "text/html": [
       "<div>\n",
       "<table border=\"1\" class=\"dataframe\">\n",
       "  <thead>\n",
       "    <tr style=\"text-align: right;\">\n",
       "      <th></th>\n",
       "      <th>Movies</th>\n",
       "      <th>Names</th>\n",
       "      <th>is_GA</th>\n",
       "      <th>Num_of_Glasses</th>\n",
       "      <th>Steps_to_get_to_class</th>\n",
       "    </tr>\n",
       "  </thead>\n",
       "  <tbody>\n",
       "    <tr>\n",
       "      <th>0</th>\n",
       "      <td>0</td>\n",
       "      <td>Reid</td>\n",
       "      <td>Yes</td>\n",
       "      <td>2</td>\n",
       "      <td>3000</td>\n",
       "    </tr>\n",
       "    <tr>\n",
       "      <th>1</th>\n",
       "      <td>0</td>\n",
       "      <td>Edward</td>\n",
       "      <td>Yes</td>\n",
       "      <td>2</td>\n",
       "      <td>8000</td>\n",
       "    </tr>\n",
       "    <tr>\n",
       "      <th>2</th>\n",
       "      <td>0</td>\n",
       "      <td>Matt</td>\n",
       "      <td>Yes</td>\n",
       "      <td>0</td>\n",
       "      <td>5000</td>\n",
       "    </tr>\n",
       "    <tr>\n",
       "      <th>3</th>\n",
       "      <td>1</td>\n",
       "      <td>MartyMcFly</td>\n",
       "      <td>No</td>\n",
       "      <td>1</td>\n",
       "      <td>2000</td>\n",
       "    </tr>\n",
       "  </tbody>\n",
       "</table>\n",
       "</div>"
      ],
      "text/plain": [
       "   Movies       Names is_GA  Num_of_Glasses  Steps_to_get_to_class\n",
       "0       0        Reid   Yes               2                   3000\n",
       "1       0      Edward   Yes               2                   8000\n",
       "2       0        Matt   Yes               0                   5000\n",
       "3       1  MartyMcFly    No               1                   2000"
      ]
     },
     "execution_count": 7,
     "metadata": {},
     "output_type": "execute_result"
    }
   ],
   "source": [
    "big_df = pd.merge(df1, df2, how='inner', on='Names')\n",
    "big_df"
   ]
  },
  {
   "cell_type": "markdown",
   "metadata": {},
   "source": [
    "### Concat\n",
    "Another way to join tables together, this time more similar to SQL's Union. However, it is a bit stronger that you can choose which axis to concat on (axis=0 is rows and axis=1 is columns)."
   ]
  },
  {
   "cell_type": "code",
   "execution_count": 8,
   "metadata": {
    "collapsed": true
   },
   "outputs": [],
   "source": [
    "df1 = pd.DataFrame({'Animals': ['Bear', 'Cat', 'Dog', 'Bird'],\n",
    "                    'Pet': ['No', 'Yes', 'Yes', 'No'],\n",
    "                    'Size': ['Big', 'Medium', 'Medium', 'Small']})\n",
    "\n",
    "df2 = pd.DataFrame({'Animals': ['Turtle', 'Cheetah', 'Eagle', 'Beaver'],\n",
    "                    'Pet': ['Yes', 'No', 'No', 'No'],\n",
    "                    'Size': ['Small', 'Big', 'Medium', 'Medium']})\n",
    "\n",
    "df3 = pd.DataFrame({'Animals': ['Rat', 'Hampster', 'Porcupine', 'Pig'],\n",
    "                    'Pet': ['Yes', 'Yes', 'No', 'Yes'],\n",
    "                    'Size': ['Small', 'Small', 'Medium', 'Medium']})"
   ]
  },
  {
   "cell_type": "code",
   "execution_count": 16,
   "metadata": {
    "collapsed": false
   },
   "outputs": [
    {
     "data": {
      "text/html": [
       "<div>\n",
       "<table border=\"1\" class=\"dataframe\">\n",
       "  <thead>\n",
       "    <tr style=\"text-align: right;\">\n",
       "      <th></th>\n",
       "      <th>Animals</th>\n",
       "      <th>Pet</th>\n",
       "      <th>Size</th>\n",
       "    </tr>\n",
       "  </thead>\n",
       "  <tbody>\n",
       "    <tr>\n",
       "      <th>0</th>\n",
       "      <td>Bear</td>\n",
       "      <td>No</td>\n",
       "      <td>Big</td>\n",
       "    </tr>\n",
       "    <tr>\n",
       "      <th>1</th>\n",
       "      <td>Cat</td>\n",
       "      <td>Yes</td>\n",
       "      <td>Medium</td>\n",
       "    </tr>\n",
       "    <tr>\n",
       "      <th>2</th>\n",
       "      <td>Dog</td>\n",
       "      <td>Yes</td>\n",
       "      <td>Medium</td>\n",
       "    </tr>\n",
       "    <tr>\n",
       "      <th>3</th>\n",
       "      <td>Bird</td>\n",
       "      <td>No</td>\n",
       "      <td>Small</td>\n",
       "    </tr>\n",
       "    <tr>\n",
       "      <th>0</th>\n",
       "      <td>Turtle</td>\n",
       "      <td>Yes</td>\n",
       "      <td>Small</td>\n",
       "    </tr>\n",
       "    <tr>\n",
       "      <th>1</th>\n",
       "      <td>Cheetah</td>\n",
       "      <td>No</td>\n",
       "      <td>Big</td>\n",
       "    </tr>\n",
       "    <tr>\n",
       "      <th>2</th>\n",
       "      <td>Eagle</td>\n",
       "      <td>No</td>\n",
       "      <td>Medium</td>\n",
       "    </tr>\n",
       "    <tr>\n",
       "      <th>3</th>\n",
       "      <td>Beaver</td>\n",
       "      <td>No</td>\n",
       "      <td>Medium</td>\n",
       "    </tr>\n",
       "    <tr>\n",
       "      <th>0</th>\n",
       "      <td>Rat</td>\n",
       "      <td>Yes</td>\n",
       "      <td>Small</td>\n",
       "    </tr>\n",
       "    <tr>\n",
       "      <th>1</th>\n",
       "      <td>Hampster</td>\n",
       "      <td>Yes</td>\n",
       "      <td>Small</td>\n",
       "    </tr>\n",
       "    <tr>\n",
       "      <th>2</th>\n",
       "      <td>Porcupine</td>\n",
       "      <td>No</td>\n",
       "      <td>Medium</td>\n",
       "    </tr>\n",
       "    <tr>\n",
       "      <th>3</th>\n",
       "      <td>Pig</td>\n",
       "      <td>Yes</td>\n",
       "      <td>Medium</td>\n",
       "    </tr>\n",
       "  </tbody>\n",
       "</table>\n",
       "</div>"
      ],
      "text/plain": [
       "     Animals  Pet    Size\n",
       "0       Bear   No     Big\n",
       "1        Cat  Yes  Medium\n",
       "2        Dog  Yes  Medium\n",
       "3       Bird   No   Small\n",
       "0     Turtle  Yes   Small\n",
       "1    Cheetah   No     Big\n",
       "2      Eagle   No  Medium\n",
       "3     Beaver   No  Medium\n",
       "0        Rat  Yes   Small\n",
       "1   Hampster  Yes   Small\n",
       "2  Porcupine   No  Medium\n",
       "3        Pig  Yes  Medium"
      ]
     },
     "execution_count": 16,
     "metadata": {},
     "output_type": "execute_result"
    }
   ],
   "source": [
    "results = pd.concat([df1, df2, df3], axis=0)\n",
    "results"
   ]
  },
  {
   "cell_type": "code",
   "execution_count": 9,
   "metadata": {
    "collapsed": false
   },
   "outputs": [
    {
     "data": {
      "text/html": [
       "<div>\n",
       "<table border=\"1\" class=\"dataframe\">\n",
       "  <thead>\n",
       "    <tr style=\"text-align: right;\">\n",
       "      <th></th>\n",
       "      <th>Animals</th>\n",
       "      <th>Pet</th>\n",
       "      <th>Size</th>\n",
       "      <th>Animals</th>\n",
       "      <th>Pet</th>\n",
       "      <th>Size</th>\n",
       "      <th>Animals</th>\n",
       "      <th>Pet</th>\n",
       "      <th>Size</th>\n",
       "    </tr>\n",
       "  </thead>\n",
       "  <tbody>\n",
       "    <tr>\n",
       "      <th>0</th>\n",
       "      <td>Bear</td>\n",
       "      <td>No</td>\n",
       "      <td>Big</td>\n",
       "      <td>Turtle</td>\n",
       "      <td>Yes</td>\n",
       "      <td>Small</td>\n",
       "      <td>Rat</td>\n",
       "      <td>Yes</td>\n",
       "      <td>Small</td>\n",
       "    </tr>\n",
       "    <tr>\n",
       "      <th>1</th>\n",
       "      <td>Cat</td>\n",
       "      <td>Yes</td>\n",
       "      <td>Medium</td>\n",
       "      <td>Cheetah</td>\n",
       "      <td>No</td>\n",
       "      <td>Big</td>\n",
       "      <td>Hampster</td>\n",
       "      <td>Yes</td>\n",
       "      <td>Small</td>\n",
       "    </tr>\n",
       "    <tr>\n",
       "      <th>2</th>\n",
       "      <td>Dog</td>\n",
       "      <td>Yes</td>\n",
       "      <td>Medium</td>\n",
       "      <td>Eagle</td>\n",
       "      <td>No</td>\n",
       "      <td>Medium</td>\n",
       "      <td>Porcupine</td>\n",
       "      <td>No</td>\n",
       "      <td>Medium</td>\n",
       "    </tr>\n",
       "    <tr>\n",
       "      <th>3</th>\n",
       "      <td>Bird</td>\n",
       "      <td>No</td>\n",
       "      <td>Small</td>\n",
       "      <td>Beaver</td>\n",
       "      <td>No</td>\n",
       "      <td>Medium</td>\n",
       "      <td>Pig</td>\n",
       "      <td>Yes</td>\n",
       "      <td>Medium</td>\n",
       "    </tr>\n",
       "  </tbody>\n",
       "</table>\n",
       "</div>"
      ],
      "text/plain": [
       "  Animals  Pet    Size  Animals  Pet    Size    Animals  Pet    Size\n",
       "0    Bear   No     Big   Turtle  Yes   Small        Rat  Yes   Small\n",
       "1     Cat  Yes  Medium  Cheetah   No     Big   Hampster  Yes   Small\n",
       "2     Dog  Yes  Medium    Eagle   No  Medium  Porcupine   No  Medium\n",
       "3    Bird   No   Small   Beaver   No  Medium        Pig  Yes  Medium"
      ]
     },
     "execution_count": 9,
     "metadata": {},
     "output_type": "execute_result"
    }
   ],
   "source": [
    "results = pd.concat([df1, df2, df3], axis=1)\n",
    "results"
   ]
  },
  {
   "cell_type": "markdown",
   "metadata": {},
   "source": [
    "### Append\n",
    "A shortcut way to concat on axis=0. Will use same df as in concat."
   ]
  },
  {
   "cell_type": "code",
   "execution_count": 10,
   "metadata": {
    "collapsed": false
   },
   "outputs": [
    {
     "data": {
      "text/html": [
       "<div>\n",
       "<table border=\"1\" class=\"dataframe\">\n",
       "  <thead>\n",
       "    <tr style=\"text-align: right;\">\n",
       "      <th></th>\n",
       "      <th>Animals</th>\n",
       "      <th>Pet</th>\n",
       "      <th>Size</th>\n",
       "    </tr>\n",
       "  </thead>\n",
       "  <tbody>\n",
       "    <tr>\n",
       "      <th>0</th>\n",
       "      <td>Bear</td>\n",
       "      <td>No</td>\n",
       "      <td>Big</td>\n",
       "    </tr>\n",
       "    <tr>\n",
       "      <th>1</th>\n",
       "      <td>Cat</td>\n",
       "      <td>Yes</td>\n",
       "      <td>Medium</td>\n",
       "    </tr>\n",
       "    <tr>\n",
       "      <th>2</th>\n",
       "      <td>Dog</td>\n",
       "      <td>Yes</td>\n",
       "      <td>Medium</td>\n",
       "    </tr>\n",
       "    <tr>\n",
       "      <th>3</th>\n",
       "      <td>Bird</td>\n",
       "      <td>No</td>\n",
       "      <td>Small</td>\n",
       "    </tr>\n",
       "    <tr>\n",
       "      <th>0</th>\n",
       "      <td>Turtle</td>\n",
       "      <td>Yes</td>\n",
       "      <td>Small</td>\n",
       "    </tr>\n",
       "    <tr>\n",
       "      <th>1</th>\n",
       "      <td>Cheetah</td>\n",
       "      <td>No</td>\n",
       "      <td>Big</td>\n",
       "    </tr>\n",
       "    <tr>\n",
       "      <th>2</th>\n",
       "      <td>Eagle</td>\n",
       "      <td>No</td>\n",
       "      <td>Medium</td>\n",
       "    </tr>\n",
       "    <tr>\n",
       "      <th>3</th>\n",
       "      <td>Beaver</td>\n",
       "      <td>No</td>\n",
       "      <td>Medium</td>\n",
       "    </tr>\n",
       "    <tr>\n",
       "      <th>0</th>\n",
       "      <td>Rat</td>\n",
       "      <td>Yes</td>\n",
       "      <td>Small</td>\n",
       "    </tr>\n",
       "    <tr>\n",
       "      <th>1</th>\n",
       "      <td>Hampster</td>\n",
       "      <td>Yes</td>\n",
       "      <td>Small</td>\n",
       "    </tr>\n",
       "    <tr>\n",
       "      <th>2</th>\n",
       "      <td>Porcupine</td>\n",
       "      <td>No</td>\n",
       "      <td>Medium</td>\n",
       "    </tr>\n",
       "    <tr>\n",
       "      <th>3</th>\n",
       "      <td>Pig</td>\n",
       "      <td>Yes</td>\n",
       "      <td>Medium</td>\n",
       "    </tr>\n",
       "  </tbody>\n",
       "</table>\n",
       "</div>"
      ],
      "text/plain": [
       "     Animals  Pet    Size\n",
       "0       Bear   No     Big\n",
       "1        Cat  Yes  Medium\n",
       "2        Dog  Yes  Medium\n",
       "3       Bird   No   Small\n",
       "0     Turtle  Yes   Small\n",
       "1    Cheetah   No     Big\n",
       "2      Eagle   No  Medium\n",
       "3     Beaver   No  Medium\n",
       "0        Rat  Yes   Small\n",
       "1   Hampster  Yes   Small\n",
       "2  Porcupine   No  Medium\n",
       "3        Pig  Yes  Medium"
      ]
     },
     "execution_count": 10,
     "metadata": {},
     "output_type": "execute_result"
    }
   ],
   "source": [
    "# Python is very handy where you can chain commands together. Make sure that they are in order of operations.\n",
    "results = df1.append(df2).append(df3)\n",
    "results"
   ]
  },
  {
   "cell_type": "markdown",
   "metadata": {},
   "source": [
    "## Lesson 6"
   ]
  },
  {
   "cell_type": "markdown",
   "metadata": {},
   "source": [
    "### Bias-Variance Trade Off\n",
    "\n",
    "Every Data Scientist will tell you that the Bias-Variance trade off is important to understand. First off, what is Bias and what is variance?\n",
    "\n",
    "1. Bias - I've accepted that my model will not perfectly model the dataset.\n",
    "2. Variance - I will try to account for all the data points in my current \"sample/training\" set.\n",
    "\n",
    "What does it mean?\n",
    "\n",
    "Bias means that you are **underfitting**. You are obtaining only the most important feature(s) that you leave out other features that may improve your explanation of your model. This is a problem because you want to get the best explanation.\n",
    "\n",
    "Variance means that you are **overfitting**. You are accommodating every single data point that you include features you don't want that may confuse or hurt your explanation of your models.\n",
    "\n",
    "The trade off is to find the most optimized point between bias and variance, but how?\n",
    "\n",
    "Too much variance:\n",
    "    - Regularization regression models, such as Lasso and Ridge (explained later), will increase bias.\n",
    "    - Dimensionality Reduction (unsupervised learning) and Feature Selection will increase bias.\n",
    "    - Ensemble Method Boosting combines 'strong' learners in a way to reduce variance\n",
    "    \n",
    "Too much bias:\n",
    "    - Increase the number of features\n",
    "    - Ensemble Method Bagging combining many weak, high bias models to get a lower bias\n",
    "\n",
    "It is also good to mention that every model's algorithm is different in bias and variance itself. k-Nearest Neighbors is a high bias model. Decision Trees can be high variance depending on how many leaf nodes you determine in your parameter. This is where research and analyst comes into place. As a scientist, you'll need to go back and forth to achieve the highest optimized trade off point. There is no \"right\" answer.\n",
    "\n",
    "Some of these methods we haven't learned yet, but don't fret, we will eventually get there. Just know for now that bias-variance is important and there are ways to balance it out."
   ]
  },
  {
   "cell_type": "markdown",
   "metadata": {},
   "source": [
    "### Error Metrics: Loss Function, MSE, RMSE, R-Squared\n",
    "\n",
    "1. Loss Function - The loss function is what is being optimized by the process of regression. Think of the term \"loss function\" sort of like the greater the value, the more information about your target variable that is \"lost\" by your model. A common loss function is the least squares loss function, where the increase in the sum of squared errors (loss) is creating a bad fit between your predictor and target variance\n",
    "2. Mean Squared Error (MSE) and Residual Mean Squared Error (RMSE) - https://www.vernier.com/til/1014/\n",
    "3. R-Squared - http://blog.minitab.com/blog/adventures-in-statistics-2/regression-analysis-how-do-i-interpret-r-squared-and-assess-the-goodness-of-fit"
   ]
  },
  {
   "cell_type": "markdown",
   "metadata": {},
   "source": [
    "### Regularization with Lasso, Ridge, Elastic Net\n",
    "\n",
    "The concept of regularization is adding an additional \"penalty\" on the size of coefficients to the minimization of sum of squared errors in standard regression.\n",
    "\n",
    "In other words, there are additional components to the loss function, so the minimization becomes a balance between these components. \n",
    "\n",
    "The most common types of regularization are the **\"Lasso\"**, **\"Ridge\"**, and the **Elastic Net**.\n",
    "    \n",
    "##### First off, let's hurt some of your brains.\n",
    "\n",
    "Least Squares Loss function formula:\n",
    "### $$ \\text{minimize}\\; RSS = \\sum_{i=1}^n (y_i - \\hat{y}_i)^2 = \\sum_{i=1}^n \\left(y_i - \\left(\\beta_0 + \\sum_{j=1}^p\\beta_j x_j\\right)\\right)^2 $$\n",
    "\n",
    "This is the Lasso formula:\n",
    "### $$ \\text{minimize}\\; RSS + Lasso = \\sum_{i=1}^n \\left(y_i - \\left(\\beta_0 + \\sum_{j=1}^p\\beta_j x_j\\right)\\right)^2 + \\lambda_1\\sum_{j=1}^p |\\beta_j|$$\n",
    "\n",
    "This is the Ridge formula:\n",
    "### $$ \\text{minimize}\\; RSS+Ridge = \\sum_{i=1}^n \\left(y_i - \\left(\\beta_0 + \\sum_{j=1}^p\\beta_j x_j\\right)\\right)^2 + \\lambda_2\\sum_{j=1}^p \\beta_j^2$$\n",
    "\n",
    "And finally, the ElasticNet formula:\n",
    "### $$ \\text{minimize}\\; RSS + Ridge + Lasso = \\sum_{i=1}^n \\left(y_i - \\left(\\beta_0 + \\sum_{j=1}^p\\beta_j x_j\\right)\\right)^2 + \\lambda_1\\sum_{j=1}^p |\\beta_j| + \\lambda_2\\sum_{j=1}^p \\beta_j^2$$"
   ]
  },
  {
   "cell_type": "markdown",
   "metadata": {},
   "source": [
    "Whoa, that looks confusing! But:\n",
    "### $$ \\text{minimize}\\; RSS = \\sum_{i=1}^n (y_i - \\hat{y}_i)^2 $$\n",
    "\n",
    "That is just adding all your (predicted_y - true_y)^2, which is what you do to calculate the MSE and RMSE!\n",
    "\n",
    "What we are interested in is the lambda ($\\lambda$)\n",
    "### $$ Lasso = \\lambda_1\\sum_{j=1}^p |\\beta_j|$$\n",
    "### $$ Ridge = \\lambda_2\\sum_{j=1}^p \\beta_j^2$$\n",
    "### $$ Ridge + Lasso =  \\lambda_1\\sum_{j=1}^p |\\beta_j| + \\lambda_2\\sum_{j=1}^p \\beta_j^2$$\n",
    "\n",
    "The $\\lambda$ is the penalty you are setting to regularize (reduce loss, increase bias, decrease variance). When $\\lambda = 0$, then it will end up being just the least squares loss function. For each coefficient, we put a penalty constraint of $\\lambda$, and depending which regularization we use, either taking the absolute value or squaring it. Now let's talk about what each one is actually doing.\n",
    "\n",
    "- Lasso is high in bias. Lasso completely removes all weak predictors completely out of your model and will only work with the strongest predictors to give you the best R-squared.\n",
    "- Ridge handles multicollinearity really well. Ridge doesn't remove any predictors, but rather, balances out all the predictors so that every predictor will have an optimized explanation towards the model.\n",
    "- Elastic Net is a combination of both, and personally, I prefer using this, unless I have definite reasoning behind what I am looking for. Elastic Net will help you optimize both Lasso and Ridge. The model is also smart enough that if only Lasso is needed, Elastic Net will only use Lasso and set $\\lambda_2 = 0$, and vice versa.\n",
    "\n",
    "##### Standardization\n",
    "Before doing any regularization, all predictors must be on the same scale or else your results will be highly skewed and biased. Standardization takes all your values in a series/dataframe, set the mean to 0 and each element is scaled based on the standard deviation. Below is how to import standardization and apply it to your dataframe."
   ]
  },
  {
   "cell_type": "code",
   "execution_count": null,
   "metadata": {
    "collapsed": true
   },
   "outputs": [],
   "source": [
    "from sklearn.preprocessing import StandardScaler\n",
    "\n",
    "ss = StandardScaler()\n",
    "scaled_df = ss.fit_transform(df)"
   ]
  },
  {
   "cell_type": "markdown",
   "metadata": {},
   "source": [
    "Advanced Statistics/Machine Learning Free Course:\n",
    "https://onlinecourses.science.psu.edu/stat857/node/141"
   ]
  }
 ],
 "metadata": {
  "anaconda-cloud": {},
  "kernelspec": {
   "display_name": "Python 2",
   "language": "python",
   "name": "python2"
  },
  "language_info": {
   "codemirror_mode": {
    "name": "ipython",
    "version": 2
   },
   "file_extension": ".py",
   "mimetype": "text/x-python",
   "name": "python",
   "nbconvert_exporter": "python",
   "pygments_lexer": "ipython2",
   "version": "2.7.13"
  }
 },
 "nbformat": 4,
 "nbformat_minor": 0
}
